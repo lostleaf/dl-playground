{
 "cells": [
  {
   "cell_type": "code",
   "execution_count": 1,
   "metadata": {},
   "outputs": [],
   "source": [
    "import torch\n",
    "import torch.nn as nn\n",
    "import torch.nn.functional as F\n",
    "import torchvision as tv\n",
    "import torchvision.transforms as transforms\n",
    "import matplotlib.pyplot as plt\n",
    "from torch import optim\n",
    "\n",
    "%matplotlib inline"
   ]
  },
  {
   "cell_type": "code",
   "execution_count": 2,
   "metadata": {},
   "outputs": [],
   "source": [
    "train = tv.datasets.MNIST('/Users/lostleaf/dev/pytorch-data/mnist',\n",
    "                          train=True,\n",
    "                          download=True,\n",
    "                          transform=transforms.ToTensor())\n",
    "train_set = torch.utils.data.DataLoader(train, batch_size=32, shuffle=True)\n",
    "\n",
    "test = tv.datasets.MNIST('/Users/lostleaf/dev/pytorch-data/mnist',\n",
    "                          train=False,\n",
    "                          download=True,\n",
    "                          transform=transforms.ToTensor())\n",
    "test_set = torch.utils.data.DataLoader(test, batch_size=32, shuffle=True)"
   ]
  },
  {
   "cell_type": "code",
   "execution_count": 3,
   "metadata": {},
   "outputs": [
    {
     "name": "stdout",
     "output_type": "stream",
     "text": [
      "Net(\n",
      "  (conv1): Conv2d(1, 6, kernel_size=(3, 3), stride=(1, 1))\n",
      "  (conv2): Conv2d(6, 16, kernel_size=(3, 3), stride=(1, 1))\n",
      "  (fc1): Linear(in_features=400, out_features=120, bias=True)\n",
      "  (fc2): Linear(in_features=120, out_features=84, bias=True)\n",
      "  (fc3): Linear(in_features=84, out_features=10, bias=True)\n",
      ")\n",
      "conv1.weight torch.Size([6, 1, 3, 3])\n",
      "conv1.bias torch.Size([6])\n",
      "conv2.weight torch.Size([16, 6, 3, 3])\n",
      "conv2.bias torch.Size([16])\n",
      "fc1.weight torch.Size([120, 400])\n",
      "fc1.bias torch.Size([120])\n",
      "fc2.weight torch.Size([84, 120])\n",
      "fc2.bias torch.Size([84])\n",
      "fc3.weight torch.Size([10, 84])\n",
      "fc3.bias torch.Size([10])\n"
     ]
    }
   ],
   "source": [
    "class Net(nn.Module):\n",
    "\n",
    "    def __init__(self):\n",
    "        super(Net, self).__init__()\n",
    "        # 1 input image channel, 6 output channels, 5x5 square convolution\n",
    "        # kernel\n",
    "        self.conv1 = nn.Conv2d(1, 6, 3)\n",
    "        self.conv2 = nn.Conv2d(6, 16, 3)\n",
    "        # an affine operation: y = Wx + b\n",
    "        self.fc1 = nn.Linear(16 * 5 * 5, 120)\n",
    "        self.fc2 = nn.Linear(120, 84)\n",
    "        self.fc3 = nn.Linear(84, 10)\n",
    "\n",
    "    def forward(self, x):\n",
    "        # Max pooling over a (2, 2) window\n",
    "        x = F.max_pool2d(F.relu(self.conv1(x)), 2)\n",
    "        x = F.max_pool2d(F.relu(self.conv2(x)), 2)\n",
    "        x = x.view(x.size(0), -1)\n",
    "        x = F.relu(self.fc1(x))\n",
    "        x = F.relu(self.fc2(x))\n",
    "        x = self.fc3(x)\n",
    "        return x\n",
    "\n",
    "    def num_flat_features(self, x):\n",
    "        size = x.size()[1:]  # all dimensions except the batch dimension\n",
    "        num_features = 1\n",
    "        for s in size:\n",
    "            num_features *= s\n",
    "        return num_features\n",
    "\n",
    "\n",
    "net = Net()\n",
    "print(net)\n",
    "params = list()\n",
    "for n, p in net.named_parameters():\n",
    "    print(n, p.size())\n",
    "    "
   ]
  },
  {
   "cell_type": "code",
   "execution_count": 28,
   "metadata": {},
   "outputs": [
    {
     "name": "stdout",
     "output_type": "stream",
     "text": [
      "Epoch 1 Loss: 0.000007\n",
      "Epoch 2 Loss: 0.000007\n",
      "Epoch 3 Loss: 0.000007\n",
      "Epoch 4 Loss: 0.000007\n",
      "Epoch 5 Loss: 0.000006\n",
      "Epoch 6 Loss: 0.000006\n",
      "Epoch 7 Loss: 0.000006\n",
      "Epoch 8 Loss: 0.000006\n",
      "Epoch 9 Loss: 0.000006\n",
      "Epoch 10 Loss: 0.000006\n",
      "Epoch 11 Loss: 0.000006\n",
      "Epoch 12 Loss: 0.000005\n",
      "Epoch 13 Loss: 0.000005\n",
      "Epoch 14 Loss: 0.000005\n",
      "Epoch 15 Loss: 0.000005\n",
      "Epoch 16 Loss: 0.000005\n",
      "Epoch 17 Loss: 0.000005\n",
      "Epoch 18 Loss: 0.000005\n",
      "Epoch 19 Loss: 0.000005\n",
      "Epoch 20 Loss: 0.000005\n",
      "Finished Training\n"
     ]
    }
   ],
   "source": [
    "criterion = nn.CrossEntropyLoss() # 交叉熵损失函数\n",
    "optimizer = optim.SGD(net.parameters(), lr=1e-3, momentum=0.5)\n",
    "\n",
    "for epoch in range(20):  \n",
    "    \n",
    "    running_loss, num = 0.0, 0\n",
    "    for i, data in enumerate(train_set, 0):\n",
    "        \n",
    "        # 输入数据\n",
    "        inputs, labels = data\n",
    "        \n",
    "        # 梯度清零\n",
    "        optimizer.zero_grad()\n",
    "        \n",
    "        # forward + backward \n",
    "        outputs = net(inputs)\n",
    "        loss = criterion(outputs, labels)\n",
    "        loss.backward()   \n",
    "        \n",
    "        # 更新参数 \n",
    "        optimizer.step()\n",
    "        \n",
    "        # 打印log信息\n",
    "        running_loss += loss.item()\n",
    "        num += inputs.size(0)\n",
    "\n",
    "    print('Epoch %d Loss: %f' % (epoch + 1, running_loss / num))\n",
    "print('Finished Training')"
   ]
  },
  {
   "cell_type": "code",
   "execution_count": 29,
   "metadata": {},
   "outputs": [
    {
     "name": "stdout",
     "output_type": "stream",
     "text": [
      "9911 10000\n",
      "Accuracy:  0.9911\n"
     ]
    }
   ],
   "source": [
    "correct, total = 0, 0\n",
    "with torch.no_grad():\n",
    "    for inputs, labels in test_set:\n",
    "        logits = net(inputs)\n",
    "        _, pred = torch.max(logits, 1)\n",
    "        total += len(labels)\n",
    "        correct += torch.sum(labels == pred).item()\n",
    "    print(correct, total)\n",
    "print(\"Accuracy: \", correct / total)"
   ]
  }
 ],
 "metadata": {
  "kernelspec": {
   "display_name": "Python 3",
   "language": "python",
   "name": "python3"
  },
  "language_info": {
   "codemirror_mode": {
    "name": "ipython",
    "version": 3
   },
   "file_extension": ".py",
   "mimetype": "text/x-python",
   "name": "python",
   "nbconvert_exporter": "python",
   "pygments_lexer": "ipython3",
   "version": "3.6.4"
  }
 },
 "nbformat": 4,
 "nbformat_minor": 2
}
